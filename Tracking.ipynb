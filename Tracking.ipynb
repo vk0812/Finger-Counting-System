{
 "cells": [
  {
   "cell_type": "code",
   "execution_count": 1,
   "id": "7246d9fe",
   "metadata": {},
   "outputs": [],
   "source": [
    "import cv2\n",
    "import mediapipe as mp\n",
    "import time\n",
    "import HandTrackingModule as htm"
   ]
  },
  {
   "cell_type": "code",
   "execution_count": 2,
   "id": "6cb0dbe7",
   "metadata": {},
   "outputs": [],
   "source": [
    "cam = cv2.VideoCapture(0)\n",
    "\n",
    "prev = 0\n",
    "curr = 0\n",
    "\n",
    "detector = htm.Detector()\n",
    "\n",
    "while True:\n",
    "    res, img = cam.read()\n",
    "    img = detector.findHands(img)\n",
    "    \n",
    "    lm = detector.findPosition(img)\n",
    "    # if(len(lm) != 0):\n",
    "        # print(lm)\n",
    "\n",
    "    curr = time.time()\n",
    "    fps = 1/(curr-prev)\n",
    "    prev = curr\n",
    "    cv2.putText(img, str(int(fps)), (10, 80),\n",
    "                cv2.FONT_HERSHEY_SIMPLEX, 3, (255, 0, 255), 3)\n",
    "\n",
    "    cv2.imshow(\"Hand Tracking\", img)\n",
    "    if cv2.waitKey(1) & 0xff == ord('q'):\n",
    "        break\n",
    "\n",
    "cam.release()\n",
    "cv2.destroyAllWindows()"
   ]
  }
 ],
 "metadata": {
  "kernelspec": {
   "display_name": "Python 3 (ipykernel)",
   "language": "python",
   "name": "python3"
  },
  "language_info": {
   "codemirror_mode": {
    "name": "ipython",
    "version": 3
   },
   "file_extension": ".py",
   "mimetype": "text/x-python",
   "name": "python",
   "nbconvert_exporter": "python",
   "pygments_lexer": "ipython3",
   "version": "3.10.2"
  }
 },
 "nbformat": 4,
 "nbformat_minor": 5
}
